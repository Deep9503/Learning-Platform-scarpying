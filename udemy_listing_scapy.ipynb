{
  "nbformat": 4,
  "nbformat_minor": 0,
  "metadata": {
    "colab": {
      "name": "udemy_listing_scapy.ipynb",
      "provenance": []
    },
    "kernelspec": {
      "name": "python3",
      "display_name": "Python 3"
    },
    "language_info": {
      "name": "python"
    }
  },
  "cells": [
    {
      "cell_type": "markdown",
      "metadata": {
        "id": "8Zgn-HxEzw1P"
      },
      "source": [
        "##Installing required libraries :\n",
        "1.   Chroimum and WebDriver\n",
        "2.   Selenium\n",
        "\n"
      ]
    },
    {
      "cell_type": "code",
      "metadata": {
        "id": "2LhuWSLozv-_"
      },
      "source": [
        "!apt-get update -q\n",
        "!apt install chromium-chromedriver -q\n",
        "!pip install selenium -q\n",
        "!cp /usr/lib/chromium-browser/chromedriver /usr/bin"
      ],
      "execution_count": null,
      "outputs": []
    },
    {
      "cell_type": "markdown",
      "metadata": {
        "id": "LDc74ITS0Gku"
      },
      "source": [
        "### imports"
      ]
    },
    {
      "cell_type": "code",
      "metadata": {
        "id": "lmWd9mOP0H3r"
      },
      "source": [
        "from selenium import webdriver\n",
        "from selenium.webdriver.chrome.options import Options\n",
        "from selenium.webdriver.common.by import By\n",
        "from selenium.webdriver.support.ui import WebDriverWait\n",
        "from selenium.webdriver.support import expected_conditions as EC\n",
        "import time\n",
        "import pandas as pd\n",
        "\n",
        "import sys\n",
        "sys.path.insert(0,'/usr/lib/chromium-browser/chromedriver')"
      ],
      "execution_count": null,
      "outputs": []
    },
    {
      "cell_type": "markdown",
      "metadata": {
        "id": "AcO3AcMq0glV"
      },
      "source": [
        "##Chrome Browser URL contains"
      ]
    },
    {
      "cell_type": "code",
      "metadata": {
        "id": "Ay3zTEx90tcF"
      },
      "source": [
        "chrome_options = Options()\n",
        "chrome_options.add_argument('--headless')\n",
        "chrome_options.add_argument('--no-sandbox')\n",
        "chrome_options.add_argument('--disable-dev-shm-usage')\n",
        "driver = webdriver.Chrome('chromedriver', chrome_options=chrome_options)"
      ],
      "execution_count": null,
      "outputs": []
    },
    {
      "cell_type": "markdown",
      "metadata": {
        "id": "pZQR9RyF0z37"
      },
      "source": [
        "## Specify URL\n",
        "######For e.g url = \"https://www.udemy.com/courses/development/?p={page}\"\n",
        "######Where {page} is loop.\n",
        "######If listing page have 100s of pages."
      ]
    },
    {
      "cell_type": "code",
      "metadata": {
        "id": "Ih6TF5291ILh"
      },
      "source": [
        "url = \"https://www.udemy.com/courses/development/?p={page}\""
      ],
      "execution_count": null,
      "outputs": []
    },
    {
      "cell_type": "markdown",
      "metadata": {
        "id": "lMu8707d1bHi"
      },
      "source": [
        "##Main Code \n",
        "###### Data scrapying method:\n",
        "###### Selenium.\n",
        "###### html/css selector : Div , Class Name; "
      ]
    },
    {
      "cell_type": "code",
      "metadata": {
        "id": "2QWxeCu51akO"
      },
      "source": [
        "## Empty dictonary. \n",
        "\n",
        "big = [] \n",
        "\n",
        "## Empty Column. \n",
        "\n",
        "columns = ['name','urls','metadata']\n",
        "\n",
        "## loop for range of page\n",
        "\n",
        "try:\n",
        "    for i in range (1, 626):\n",
        "        driver.get(url.format(page=i))\n",
        "\n",
        "        course_container = WebDriverWait(driver, 10).until(EC.presence_of_element_located((By.CLASS_NAME, \"course-directory--container--5ZPhr\")))\n",
        "        courses = course_container.find_elements_by_class_name('popper--popper-hover--4YJ5J')\n",
        "        \n",
        "        for course in courses:\n",
        "             name = course.find_element_by_class_name('course-card--course-title--2f7tE').text\n",
        "             metadata = course.find_element_by_class_name('course-card--course-meta-info--1hHb3').text\n",
        "             urls = course.find_element_by_class_name('browse-course-card--link--3KIkQ').get_attribute(\"href\")\n",
        "             a = [name,urls,metadata]\n",
        "             big.append(a)\n",
        "        time.sleep(5.0)\n",
        "        print(i, end = \"\\n\")\n",
        "finally:\n",
        "    df = pd.DataFrame(big, columns=columns )\n",
        "    driver.quit()\n",
        "\n",
        "## data frame to CSV.\n",
        "df.to_csv('development_1.csv', index=False)"
      ],
      "execution_count": null,
      "outputs": []
    }
  ]
}